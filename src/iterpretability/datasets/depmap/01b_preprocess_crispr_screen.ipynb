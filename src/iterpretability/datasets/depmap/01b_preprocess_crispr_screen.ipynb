{
 "cells": [
  {
   "cell_type": "code",
   "execution_count": null,
   "metadata": {},
   "outputs": [],
   "source": [
    "import pandas as pd"
   ]
  },
  {
   "cell_type": "markdown",
   "metadata": {},
   "source": [
    "## Load Data"
   ]
  },
  {
   "cell_type": "code",
   "execution_count": null,
   "metadata": {},
   "outputs": [],
   "source": [
    "# gene_effect = pd.read_csv(\"/home/mike/UZH_USZ/data/DepMap_24Q2/downloads_crispr_screen/gene_effect.csv\", index_col=0)\n",
    "# cell_line_efficacy = pd.read_csv(\"/home/mike/UZH_USZ/data/DepMap_24Q2/downloads_crispr_screen/cell_line_efficacy.csv\", index_col=0)\n",
    "# cell_line_growth_rate = pd.read_csv(\"/home/mike/UZH_USZ/data/DepMap_24Q2/downloads_crispr_screen/cell_line_growth_rate.csv\", index_col=0)\n",
    "# gene_dependency = pd.read_csv(\"/home/mike/UZH_USZ/data/DepMap_24Q2/downloads_crispr_screen/gene_dependency.csv\", index_col=0)\n",
    "# guide_efficacy = pd.read_csv(\"/home/mike/UZH_USZ/data/DepMap_24Q2/downloads_crispr_screen/guide_efficacy.csv\", index_col=0)\n",
    "# common_essentials = pd.read_csv(\"/home/mike/UZH_USZ/data/DepMap_24Q2/downloads_crispr_screen/common_essentials.csv\", index_col=0)\n",
    "omics = pd.read_csv('/home/mike/UZH_USZ/data/DepMap_24Q2/downloads_drug_screen/OmicsExpressionProteinCodingGenesTPMLogp1BatchCorrected.csv', index_col=0)\n",
    "braf_correlates = pd.read_csv(\"/home/mike/UZH_USZ/data/DepMap_24Q2/downloads_crispr_screen/BRAF in Chronos_Combined associations.csv\", index_col=0)\n",
    "egfr_correlates = pd.read_csv(\"/home/mike/UZH_USZ/data/DepMap_24Q2/downloads_crispr_screen/EGFR in Chronos_Combined associations.csv\", index_col=0)\n",
    "kras_correlates = pd.read_csv(\"/home/mike/UZH_USZ/data/DepMap_24Q2/downloads_crispr_screen/KRAS in Chronos_Combined associations.csv\", index_col=0)"
   ]
  },
  {
   "cell_type": "code",
   "execution_count": null,
   "metadata": {},
   "outputs": [],
   "source": [
    "# DepMap default for crispr screens\n",
    "gene_effect_default = pd.read_csv(\"/home/mike/UZH_USZ/data/DepMap_24Q2/downloads_crispr_screen/CRISPRGeneEffect.csv\", index_col=0)"
   ]
  },
  {
   "cell_type": "code",
   "execution_count": null,
   "metadata": {},
   "outputs": [],
   "source": [
    "# Interesting genes\n",
    "genes_of_interest = [\"EGFR\", \"BRAF\"] #, \"KRAS\"]\n",
    "genes_of_interest = [gene for gene in gene_effect_default.columns if gene.startswith(\"EGFR\") or gene.startswith(\"BRAF\")]\n",
    "gene_effect_filtered = gene_effect_default[genes_of_interest]\n",
    "\n",
    "# We go for braf and egfr, because there are bigger pre-computed associations"
   ]
  },
  {
   "cell_type": "markdown",
   "metadata": {},
   "source": [
    "## Check Correlations"
   ]
  },
  {
   "cell_type": "code",
   "execution_count": null,
   "metadata": {},
   "outputs": [],
   "source": [
    "gene_effect_filtered.corr()"
   ]
  },
  {
   "cell_type": "markdown",
   "metadata": {},
   "source": [
    "## Check ATE"
   ]
  },
  {
   "cell_type": "code",
   "execution_count": null,
   "metadata": {},
   "outputs": [],
   "source": [
    "(gene_effect_filtered.iloc[:,1]-gene_effect_filtered.iloc[:,0]).abs().mean()"
   ]
  },
  {
   "cell_type": "code",
   "execution_count": null,
   "metadata": {},
   "outputs": [],
   "source": [
    "gene_effect_filtered.iloc[:,1].hist(bins=100)"
   ]
  },
  {
   "cell_type": "code",
   "execution_count": null,
   "metadata": {},
   "outputs": [],
   "source": [
    "gene_effect_filtered.iloc[:,1].hist(bins=100)"
   ]
  },
  {
   "cell_type": "markdown",
   "metadata": {},
   "source": [
    "## Omics Data for Cell Lines"
   ]
  },
  {
   "cell_type": "code",
   "execution_count": null,
   "metadata": {},
   "outputs": [],
   "source": [
    "# Filter for cell lines which were screened for both drugs and are contained in cl_id column from filt_outcomes df\n",
    "omics = omics[omics.index.isin(gene_effect_filtered.index)]\n",
    "\n",
    "# Filter for cell lines which were screened for both drugs and are contained in cl_id column from filt_outcomes df\n",
    "filt_outcomes = gene_effect_filtered[gene_effect_filtered.index.isin(omics.index)]"
   ]
  },
  {
   "cell_type": "markdown",
   "metadata": {},
   "source": [
    "## Get Top Correlates"
   ]
  },
  {
   "cell_type": "code",
   "execution_count": null,
   "metadata": {},
   "outputs": [],
   "source": [
    "braf_correlates"
   ]
  },
  {
   "cell_type": "code",
   "execution_count": null,
   "metadata": {},
   "outputs": [],
   "source": [
    "braf_genes = braf_correlates[braf_correlates[\"Dataset\"] == \"Expression Public 24Q2\"].index\n",
    "egfr_genes = egfr_correlates[egfr_correlates[\"Dataset\"] == \"Expression Public 24Q2\"].index\n",
    "corr_genes = set(braf_genes.append(egfr_genes))"
   ]
  },
  {
   "cell_type": "code",
   "execution_count": null,
   "metadata": {},
   "outputs": [],
   "source": [
    "selected_genes = [col for col in omics.columns if col.split(\" \")[0] in corr_genes]\n",
    "omics_filtered = omics[selected_genes]"
   ]
  },
  {
   "cell_type": "code",
   "execution_count": null,
   "metadata": {},
   "outputs": [],
   "source": [
    "# Remove all genes with very low variance\n",
    "omics_filtered = omics_filtered.loc[:, omics_filtered.var() > 0.1]"
   ]
  },
  {
   "cell_type": "markdown",
   "metadata": {},
   "source": [
    "## Get Outcomes"
   ]
  },
  {
   "cell_type": "code",
   "execution_count": null,
   "metadata": {},
   "outputs": [],
   "source": [
    "filt_outcomes = gene_effect_filtered\n",
    "filt_outcomes.columns = [\"LFC_BRAF\", \"LFC_EGFR\"]"
   ]
  },
  {
   "cell_type": "markdown",
   "metadata": {},
   "source": [
    "## Combine with outcomes and store"
   ]
  },
  {
   "cell_type": "code",
   "execution_count": null,
   "metadata": {},
   "outputs": [],
   "source": [
    "# Combine omics and outcomes\n",
    "data = filt_outcomes.join(omics_filtered)\n",
    "data.dropna(inplace=True)\n",
    "data.to_csv('/home/mike/UZH_USZ/data/DepMap_24Q2/real/depmap_crispr_screen_2_kos.csv')"
   ]
  },
  {
   "cell_type": "code",
   "execution_count": null,
   "metadata": {},
   "outputs": [],
   "source": [
    "# Normalize data\n",
    "import numpy as np\n",
    "data = data - np.min(data, axis=0) / (np.max(data, axis=0) - np.min(data, axis=0))"
   ]
  },
  {
   "cell_type": "code",
   "execution_count": null,
   "metadata": {},
   "outputs": [],
   "source": [
    "data.to_csv('/home/mike/UZH_USZ/data/DepMap_24Q2/real/depmap_crispr_screen_2_kos_norm.csv')"
   ]
  },
  {
   "cell_type": "code",
   "execution_count": null,
   "metadata": {},
   "outputs": [],
   "source": [
    "data_all_features = filt_outcomes.join(omics)"
   ]
  },
  {
   "cell_type": "code",
   "execution_count": null,
   "metadata": {},
   "outputs": [],
   "source": [
    "data_all_features = data_all_features.dropna()"
   ]
  },
  {
   "cell_type": "code",
   "execution_count": null,
   "metadata": {},
   "outputs": [],
   "source": [
    "data_all_features.to_csv('/home/mike/UZH_USZ/data/DepMap_24Q2/real/depmap_crispr_screen_2_genes_all_features.csv')"
   ]
  },
  {
   "cell_type": "code",
   "execution_count": null,
   "metadata": {},
   "outputs": [],
   "source": [
    "import numpy as np\n",
    "data_all_features_norm = data_all_features - np.min(data_all_features, axis=0) / (np.max(data_all_features, axis=0) - np.min(data_all_features, axis=0))\n",
    "data_all_features.to_csv('/home/mike/UZH_USZ/data/DepMap_24Q2/real/depmap_crispr_screen_2_genes_all_features_norm.csv')"
   ]
  }
 ],
 "metadata": {
  "kernelspec": {
   "display_name": ".venv",
   "language": "python",
   "name": "python3"
  },
  "language_info": {
   "codemirror_mode": {
    "name": "ipython",
    "version": 3
   },
   "file_extension": ".py",
   "mimetype": "text/x-python",
   "name": "python",
   "nbconvert_exporter": "python",
   "pygments_lexer": "ipython3",
   "version": "3.10.12"
  }
 },
 "nbformat": 4,
 "nbformat_minor": 2
}

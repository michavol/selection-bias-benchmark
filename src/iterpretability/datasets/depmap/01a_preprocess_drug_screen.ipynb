{
 "cells": [
  {
   "cell_type": "code",
   "execution_count": null,
   "metadata": {},
   "outputs": [
    {
     "ename": "",
     "evalue": "",
     "output_type": "error",
     "traceback": [
      "\u001b[1;31mFailed to start the Kernel. \n",
      "\u001b[1;31mUnable to start Kernel 'Python 3.8.10' due to a connection timeout. \n",
      "\u001b[1;31mView Jupyter <a href='command:jupyter.viewOutput'>log</a> for further details."
     ]
    }
   ],
   "source": [
    "import pandas as pd"
   ]
  },
  {
   "cell_type": "code",
   "execution_count": null,
   "metadata": {},
   "outputs": [],
   "source": [
    "drug_meta_data = pd.read_csv('/home/mike/UZH_USZ/data/DepMap_24Q2/downloads/Repurposing_Public_24Q2_Extended_Primary_Compound_List.csv')\n",
    "drug_meta_data2 = pd.read_csv('/home/mike/UZH_USZ/data/DepMap_24Q2/downloads/Repurposing_Public_24Q2_Treatment_Meta_Data.csv')\n",
    "omics = pd.read_csv('/home/mike/UZH_USZ/data/DepMap_24Q2/downloads/OmicsExpressionProteinCodingGenesTPMLogp1BatchCorrected.csv', index_col=0)\n",
    "outcomes = pd.read_csv('/home/mike/UZH_USZ/data/DepMap_24Q2/downloads/Repurposing_Public_24Q2_LFC_COLLAPSED.csv')\n",
    "az_628_correlates = pd.read_csv('/home/mike/UZH_USZ/data/DepMap_24Q2/downloads/AZ-628 (BRDBRD-K05804044-001-18-5) in Rep_all_single_pt associations.csv')\n",
    "imatinib_correlates = pd.read_csv('/home/mike/UZH_USZ/data/DepMap_24Q2/downloads/IMATINIB (BRDBRD-K92723993-001-17-4) in Rep_all_single_pt associations.csv')"
   ]
  },
  {
   "cell_type": "markdown",
   "metadata": {},
   "source": [
    "## Two Drugs of Interest"
   ]
  },
  {
   "cell_type": "code",
   "execution_count": null,
   "metadata": {},
   "outputs": [],
   "source": [
    "drug_ids = [\"BRD-K05804044-001-18-5\", \"BRD-K92723993-001-17-4\"]\n",
    "drug_meta_data2[(drug_meta_data2[\"broad_id\"].isin(drug_ids)) & ((drug_meta_data2[\"name\"] == \"AZ 628\") | (drug_meta_data2[\"name\"] == \"Imatinib\"))].head()"
   ]
  },
  {
   "cell_type": "code",
   "execution_count": null,
   "metadata": {},
   "outputs": [],
   "source": [
    "drug_meta_data[drug_meta_data[\"IDs\"]==\"BRD:BRD-K92723993-001-17-4\"]"
   ]
  },
  {
   "cell_type": "code",
   "execution_count": null,
   "metadata": {},
   "outputs": [],
   "source": [
    "drug_meta_data[(drug_meta_data[\"IDs\"]==\"BRD:BRD-K05804044-001-18-5\") & (drug_meta_data[\"screen\"]==\"REP.1M\")]"
   ]
  },
  {
   "cell_type": "markdown",
   "metadata": {},
   "source": [
    "## Outcome Data"
   ]
  },
  {
   "cell_type": "code",
   "execution_count": null,
   "metadata": {},
   "outputs": [],
   "source": [
    "outcomes"
   ]
  },
  {
   "cell_type": "code",
   "execution_count": null,
   "metadata": {},
   "outputs": [],
   "source": [
    "drug_ids = [\"BRD-K05804044-001-18-5\", \"BRD-K92723993-001-17-4\"]\n",
    "filt_outcomes = outcomes[(outcomes[\"broad_id\"].isin(drug_ids)) & (outcomes[\"screen\"]==\"REP1M\") & ((outcomes[\"culture\"]==\"PR500B\") | (outcomes[\"culture\"]==\"PR500A\"))] # & (outcomes[\"culture\"] == \"PR500B\")]\n"
   ]
  },
  {
   "cell_type": "code",
   "execution_count": null,
   "metadata": {},
   "outputs": [],
   "source": [
    "filt_outcomes[filt_outcomes[\"broad_id\"]==\"BRD-K92723993-001-17-4\"][\"LFC\"].hist(bins=100)"
   ]
  },
  {
   "cell_type": "code",
   "execution_count": null,
   "metadata": {},
   "outputs": [],
   "source": [
    "filt_outcomes[filt_outcomes[\"broad_id\"]==\"BRD-K05804044-001-18-5\"][\"LFC\"].hist(bins=100)"
   ]
  },
  {
   "cell_type": "code",
   "execution_count": null,
   "metadata": {},
   "outputs": [],
   "source": [
    "filt_outcomes[\"cl_id\"] = [id.split(\"::\")[0] for id in filt_outcomes[\"row_id\"]]"
   ]
  },
  {
   "cell_type": "code",
   "execution_count": null,
   "metadata": {},
   "outputs": [],
   "source": [
    "filt_outcomes"
   ]
  },
  {
   "cell_type": "code",
   "execution_count": null,
   "metadata": {},
   "outputs": [],
   "source": [
    "filt_outcomes_az_628 = filt_outcomes[filt_outcomes[\"broad_id\"] == \"BRD-K05804044-001-18-5\"].groupby(\"cl_id\").mean(numeric_only=True)\n",
    "filt_outcomes_imatinib = filt_outcomes[filt_outcomes[\"broad_id\"] == \"BRD-K92723993-001-17-4\"].groupby(\"cl_id\").mean(numeric_only=True)\n",
    "filt_outcomes = pd.DataFrame(filt_outcomes_az_628[\"LFC\"]).join(filt_outcomes_imatinib[\"LFC\"], lsuffix=\"_az_628\", rsuffix=\"_imatinib\")"
   ]
  },
  {
   "cell_type": "markdown",
   "metadata": {},
   "source": [
    "## Omics Data for Cell Lines"
   ]
  },
  {
   "cell_type": "code",
   "execution_count": null,
   "metadata": {},
   "outputs": [],
   "source": [
    "# Filter for cell lines which were screened for both drugs and are contained in cl_id column from filt_outcomes df\n",
    "omics = omics[omics.index.isin(filt_outcomes.index)]\n",
    "\n",
    "# Filter for cell lines which were screened for both drugs and are contained in cl_id column from filt_outcomes df\n",
    "filt_outcomes = filt_outcomes[filt_outcomes.index.isin(omics.index)]"
   ]
  },
  {
   "cell_type": "markdown",
   "metadata": {},
   "source": [
    "## Get Top Correlates"
   ]
  },
  {
   "cell_type": "code",
   "execution_count": null,
   "metadata": {},
   "outputs": [],
   "source": [
    "az_628_correlates[\"Dataset\"].unique()"
   ]
  },
  {
   "cell_type": "code",
   "execution_count": null,
   "metadata": {},
   "outputs": [],
   "source": [
    "az_628_genes = az_628_correlates[az_628_correlates[\"Dataset\"] == \"Expression Public 24Q2\"][\"Gene/Compound\"]\n",
    "imatinib_genes = imatinib_correlates[imatinib_correlates[\"Dataset\"] == \"Expression Public 24Q2\"][\"Gene/Compound\"]\n",
    "corr_genes = set(az_628_genes.append(imatinib_genes))"
   ]
  },
  {
   "cell_type": "code",
   "execution_count": null,
   "metadata": {},
   "outputs": [],
   "source": [
    "selected_genes = [col for col in omics.columns if col.split(\" \")[0] in corr_genes]\n",
    "omics_filtered = omics[selected_genes]"
   ]
  },
  {
   "cell_type": "code",
   "execution_count": null,
   "metadata": {},
   "outputs": [],
   "source": [
    "# Remove all genes with very low variance\n",
    "omics_filtered = omics_filtered.loc[:, omics_filtered.var() > 0.1]"
   ]
  },
  {
   "cell_type": "markdown",
   "metadata": {},
   "source": [
    "## Combine with outcomes and store"
   ]
  },
  {
   "cell_type": "code",
   "execution_count": null,
   "metadata": {},
   "outputs": [],
   "source": [
    "# Combine omics and outcomes\n",
    "data = filt_outcomes.join(omics_filtered)"
   ]
  },
  {
   "cell_type": "code",
   "execution_count": null,
   "metadata": {},
   "outputs": [],
   "source": [
    "# Normalize data\n",
    "import numpy as np\n",
    "data = data - np.min(data, axis=0) / (np.max(data, axis=0) - np.min(data, axis=0))"
   ]
  },
  {
   "cell_type": "code",
   "execution_count": null,
   "metadata": {},
   "outputs": [],
   "source": [
    "# drop rows with nans\n",
    "data = data.dropna()"
   ]
  },
  {
   "cell_type": "code",
   "execution_count": null,
   "metadata": {},
   "outputs": [],
   "source": [
    "data.to_csv('/home/mike/UZH_USZ/data/DepMap_24Q2/real/depmap_drug_screen_2_drugs.csv')"
   ]
  },
  {
   "cell_type": "code",
   "execution_count": null,
   "metadata": {},
   "outputs": [],
   "source": [
    "data_all_features = filt_outcomes.join(omics)"
   ]
  },
  {
   "cell_type": "code",
   "execution_count": null,
   "metadata": {},
   "outputs": [],
   "source": [
    "data_all_features = data_all_features.dropna()"
   ]
  },
  {
   "cell_type": "code",
   "execution_count": null,
   "metadata": {},
   "outputs": [],
   "source": [
    "data_all_features.to_csv('/home/mike/UZH_USZ/data/DepMap_24Q2/real/depmap_drug_screen_2_drugs_all_features.csv')"
   ]
  },
  {
   "cell_type": "code",
   "execution_count": null,
   "metadata": {},
   "outputs": [],
   "source": [
    "import numpy as np\n",
    "data_all_features_norm = data_all_features - np.min(data_all_features, axis=0) / (np.max(data_all_features, axis=0) - np.min(data_all_features, axis=0))\n",
    "data_all_features.to_csv('/home/mike/UZH_USZ/data/DepMap_24Q2/real/depmap_drug_screen_2_drugs_all_features_norm.csv')"
   ]
  }
 ],
 "metadata": {
  "kernelspec": {
   "display_name": ".venv",
   "language": "python",
   "name": "python3"
  },
  "language_info": {
   "codemirror_mode": {
    "name": "ipython",
    "version": 3
   },
   "file_extension": ".py",
   "mimetype": "text/x-python",
   "name": "python",
   "nbconvert_exporter": "python",
   "pygments_lexer": "ipython3",
   "version": "3.8.10"
  }
 },
 "nbformat": 4,
 "nbformat_minor": 2
}
